{
 "cells": [
  {
   "metadata": {},
   "cell_type": "markdown",
   "source": "Vi laver en test\n",
   "id": "48eaffab302ac7c7"
  },
  {
   "metadata": {
    "ExecuteTime": {
     "end_time": "2024-05-16T14:44:36.487351Z",
     "start_time": "2024-05-16T14:44:36.476873Z"
    }
   },
   "cell_type": "code",
   "source": "2+2",
   "id": "93b3919ca91a789f",
   "outputs": [
    {
     "data": {
      "text/plain": [
       "4"
      ]
     },
     "execution_count": 1,
     "metadata": {},
     "output_type": "execute_result"
    }
   ],
   "execution_count": 1
  },
  {
   "cell_type": "code",
   "id": "initial_id",
   "metadata": {
    "collapsed": true,
    "ExecuteTime": {
     "end_time": "2024-05-16T14:44:41.608315Z",
     "start_time": "2024-05-16T14:44:41.513973Z"
    }
   },
   "source": [
    "import polars\n",
    "polars.__version__"
   ],
   "outputs": [
    {
     "data": {
      "text/plain": [
       "'0.20.26'"
      ]
     },
     "execution_count": 2,
     "metadata": {},
     "output_type": "execute_result"
    }
   ],
   "execution_count": 2
  }
 ],
 "metadata": {
  "kernelspec": {
   "display_name": "Python 3",
   "language": "python",
   "name": "python3"
  },
  "language_info": {
   "codemirror_mode": {
    "name": "ipython",
    "version": 2
   },
   "file_extension": ".py",
   "mimetype": "text/x-python",
   "name": "python",
   "nbconvert_exporter": "python",
   "pygments_lexer": "ipython2",
   "version": "2.7.6"
  }
 },
 "nbformat": 4,
 "nbformat_minor": 5
}
